{
  "nbformat": 4,
  "nbformat_minor": 0,
  "metadata": {
    "colab": {
      "provenance": [],
      "collapsed_sections": []
    },
    "kernelspec": {
      "name": "python3",
      "display_name": "Python 3"
    },
    "language_info": {
      "name": "python"
    }
  },
  "cells": [
    {
      "cell_type": "markdown",
      "source": [
        "#Q1"
      ],
      "metadata": {
        "id": "jCVsCRDZXy7H"
      }
    },
    {
      "cell_type": "code",
      "execution_count": null,
      "metadata": {
        "colab": {
          "base_uri": "https://localhost:8080/"
        },
        "id": "j3BAW6MtW-B4",
        "outputId": "076d6eb6-83e2-4828-8cb4-60864b33dfd0"
      },
      "outputs": [
        {
          "output_type": "stream",
          "name": "stdout",
          "text": [
            "('aman', '222', 777, 400.4)\n"
          ]
        }
      ],
      "source": [
        "list1=[\"aman\",\"222\",777,400.4]\n",
        "tp1=tuple(list1)\n",
        "print(tp1)"
      ]
    },
    {
      "cell_type": "markdown",
      "source": [
        "#Q2"
      ],
      "metadata": {
        "id": "6Dbni7Y5YI3K"
      }
    },
    {
      "cell_type": "code",
      "source": [
        "basic_data={'Roll no':'CB.EN.U4CSE20271','Last Name':'Yenepuri','First Name':'Ashish','Date of Birth':'19/03/02'}\n",
        "for key,value in basic_data.items():\n",
        "  print(key,':',value)"
      ],
      "metadata": {
        "colab": {
          "base_uri": "https://localhost:8080/"
        },
        "id": "T5ujhcMDYKd8",
        "outputId": "63be7034-8650-4bea-8b21-cb272865f7ff"
      },
      "execution_count": null,
      "outputs": [
        {
          "output_type": "stream",
          "name": "stdout",
          "text": [
            "Roll no : CB.EN.U4CSE20271\n",
            "Last Name : Yenepuri\n",
            "First Name : Ashish\n",
            "Date of Birth : 19/03/02\n"
          ]
        }
      ]
    },
    {
      "cell_type": "markdown",
      "source": [
        "#Q3"
      ],
      "metadata": {
        "id": "r7AkpXbhYOa9"
      }
    },
    {
      "cell_type": "code",
      "source": [
        "import numpy as np\n",
        "np.random.seed(0)\n",
        "arr=np.random.randint(0,30,size=(2,5))\n",
        "print(arr)"
      ],
      "metadata": {
        "colab": {
          "base_uri": "https://localhost:8080/"
        },
        "id": "nOr040VHYQJG",
        "outputId": "156fbac5-9ddf-413c-d467-3ffa248bd16c"
      },
      "execution_count": null,
      "outputs": [
        {
          "output_type": "stream",
          "name": "stdout",
          "text": [
            "[[12 15 21  0  3]\n",
            " [27  3  7  9 19]]\n"
          ]
        }
      ]
    },
    {
      "cell_type": "markdown",
      "source": [
        "#Q4"
      ],
      "metadata": {
        "id": "zoYKLyvzcdWV"
      }
    },
    {
      "cell_type": "code",
      "source": [
        "x=np.random.uniform(0.0,1.0)\n",
        "print(x)\n",
        "print(abs(1234))"
      ],
      "metadata": {
        "colab": {
          "base_uri": "https://localhost:8080/"
        },
        "id": "AHPoSBQ8cexj",
        "outputId": "51fe291d-b784-477e-ddd7-6832ece71ee6"
      },
      "execution_count": null,
      "outputs": [
        {
          "output_type": "stream",
          "name": "stdout",
          "text": [
            "0.6458941130666561\n",
            "1234\n"
          ]
        }
      ]
    },
    {
      "cell_type": "markdown",
      "source": [
        "#Q5"
      ],
      "metadata": {
        "id": "HD5cWZIVcfYd"
      }
    },
    {
      "cell_type": "code",
      "source": [
        "x=np.random.randint(20,91)\n",
        "print(x)"
      ],
      "metadata": {
        "colab": {
          "base_uri": "https://localhost:8080/"
        },
        "id": "CqQ4k4vhcf13",
        "outputId": "4a0d82e6-7091-4e72-8c10-869826ec2eab"
      },
      "execution_count": null,
      "outputs": [
        {
          "output_type": "stream",
          "name": "stdout",
          "text": [
            "56\n"
          ]
        }
      ]
    },
    {
      "cell_type": "markdown",
      "source": [
        "#Q6"
      ],
      "metadata": {
        "id": "hExubyfZcgff"
      }
    },
    {
      "cell_type": "code",
      "source": [
        "def ret_list(list1):\n",
        "  return list1[0:3]\n",
        "list1=[11,12,13,14,15]\n",
        "newlist=ret_list(list1)\n",
        "print(newlist)\n",
        "np.random.shuffle(newlist)\n",
        "print(\"After Shuffling :\",newlist)\n",
        "print(np.random.choice(list1))"
      ],
      "metadata": {
        "colab": {
          "base_uri": "https://localhost:8080/"
        },
        "id": "vxUPj5l4cg2e",
        "outputId": "b908b4a9-4e78-4b3a-aab4-81c78f8b9d3c"
      },
      "execution_count": null,
      "outputs": [
        {
          "output_type": "stream",
          "name": "stdout",
          "text": [
            "[11, 12, 13]\n",
            "After Shuffling : [12, 11, 13]\n",
            "11\n"
          ]
        }
      ]
    },
    {
      "cell_type": "markdown",
      "source": [
        "#Q7"
      ],
      "metadata": {
        "id": "XahMJiq5h2zr"
      }
    },
    {
      "cell_type": "code",
      "source": [],
      "metadata": {
        "id": "mBzN74nuh4FE"
      },
      "execution_count": null,
      "outputs": []
    },
    {
      "cell_type": "markdown",
      "source": [
        "#Q8"
      ],
      "metadata": {
        "id": "T_cAiPRjiLOV"
      }
    },
    {
      "cell_type": "code",
      "source": [
        "\n",
        "def check_num(a):\n",
        "  if a>0:\n",
        "    print(\"If case,a is positive\")\n",
        "  elif a<0:\n",
        "    print(\"Elif case,a is negetive\")\n",
        "  else:\n",
        "    print(\"Else case,a is zero\")\n",
        "check(5)\n",
        "check(-5)\n",
        "check(0)\n",
        "a=0\n",
        "print(\"-----------While loop-------------\")\n",
        "while(a<10):\n",
        "  a+=1\n",
        "  if x==5:\n",
        "    print(\"Continue when a =5\")\n",
        "    continue\n",
        "  if a==9:\n",
        "    print(\"break when a=9\")\n",
        "    break\n",
        "  print(a)\n",
        "print(\"-----------For loop---------------\")\n",
        "\n",
        "for i in range(10,20):\n",
        "  if i==15:\n",
        "    print(\"Continue when i=15\")\n",
        "    continue\n",
        "  if i==18:\n",
        "    print(\"break when i=18\")\n",
        "    break\n",
        "  print(i)\n"
      ],
      "metadata": {
        "id": "KmV-rxe-iM20"
      },
      "execution_count": null,
      "outputs": []
    },
    {
      "cell_type": "markdown",
      "source": [
        "#Q9"
      ],
      "metadata": {
        "id": "qZEI2FABjJ58"
      }
    },
    {
      "cell_type": "code",
      "source": [
        "phrase=\"The King is Dead, Long Live The King\"\n",
        "print(phrase)\n",
        "print(phrase[0])\n",
        "print(phrase[3:6])\n",
        "print(phrase[3:])\n",
        "print(phrase.split())"
      ],
      "metadata": {
        "id": "Pr7tSPqTjMDr",
        "colab": {
          "base_uri": "https://localhost:8080/"
        },
        "outputId": "516999eb-a9a8-41f8-b174-b03e8e8d6832"
      },
      "execution_count": null,
      "outputs": [
        {
          "output_type": "stream",
          "name": "stdout",
          "text": [
            "The King is Dead, Long Live The King\n",
            "T\n",
            " Ki\n",
            " King is Dead, Long Live The King\n",
            "['The', 'King', 'is', 'Dead,', 'Long', 'Live', 'The', 'King']\n"
          ]
        }
      ]
    },
    {
      "cell_type": "markdown",
      "source": [
        "#Q10"
      ],
      "metadata": {
        "id": "N7_JwSJ2jXr8"
      }
    },
    {
      "cell_type": "code",
      "source": [
        "import numpy as np\n",
        "list1=[1,4,5,8]\n",
        "arr=np.array(list1)\n",
        "print(\"The first and second element of arr\",arr[0],arr[1])"
      ],
      "metadata": {
        "id": "YYKUf8H3jZjK",
        "colab": {
          "base_uri": "https://localhost:8080/"
        },
        "outputId": "1aaa8604-8846-40ea-d886-57ddca39151b"
      },
      "execution_count": null,
      "outputs": [
        {
          "output_type": "stream",
          "name": "stdout",
          "text": [
            "The first and second element of arr 1 4\n"
          ]
        }
      ]
    },
    {
      "cell_type": "markdown",
      "source": [
        "#Q11"
      ],
      "metadata": {
        "id": "FIICTxFxjLrl"
      }
    },
    {
      "cell_type": "code",
      "source": [
        "import numpy as np\n",
        "two_dim=np.array([[1.,2.,3.],[4.,5.,6.]])\n",
        "print(\"The 2D array :\")\n",
        "print(two_dim)"
      ],
      "metadata": {
        "colab": {
          "base_uri": "https://localhost:8080/"
        },
        "id": "L8DOe_o0jt2A",
        "outputId": "a2127c96-a188-4d7a-d29e-a4b6f619bd0f"
      },
      "execution_count": null,
      "outputs": [
        {
          "output_type": "stream",
          "name": "stdout",
          "text": [
            "The 2D array :\n",
            "[[1. 2. 3.]\n",
            " [4. 5. 6.]]\n"
          ]
        }
      ]
    },
    {
      "cell_type": "markdown",
      "source": [
        "#Q12"
      ],
      "metadata": {
        "id": "cv0sQPjNVZFT"
      }
    },
    {
      "cell_type": "code",
      "source": [
        "print(\"second row is: \",two_dim[1:][:])\n",
        "print(\"second coloumn is: \",two_dim[:,1])\n",
        "print(\"length of the array is: \",len(two_dim))"
      ],
      "metadata": {
        "colab": {
          "base_uri": "https://localhost:8080/"
        },
        "id": "t_4ZJ3OvVaoD",
        "outputId": "bbe1afc9-6c31-44a8-bd64-0068dcb18ca6"
      },
      "execution_count": null,
      "outputs": [
        {
          "output_type": "stream",
          "name": "stdout",
          "text": [
            "second row is:  [[4. 5. 6.]]\n",
            "second coloumn is:  [2. 5.]\n",
            "length of the array is:  2\n"
          ]
        }
      ]
    },
    {
      "cell_type": "markdown",
      "source": [
        "#Q13"
      ],
      "metadata": {
        "id": "bh50f2VFZYlo"
      }
    },
    {
      "cell_type": "code",
      "source": [
        "list5=[]\n",
        "for i in range(10):\n",
        "  list5.append(np.random.randint(0,100))\n",
        "one_dim=np.array(list5)\n",
        "print(\"1D array: \",one_dim)\n",
        "twodim=one_dim.reshape(5,2)\n",
        "print(\"2D array: \",twodim)\n",
        "print(\"Transpose is: \",twodim.T)"
      ],
      "metadata": {
        "colab": {
          "base_uri": "https://localhost:8080/"
        },
        "id": "jrZq_DbyZaGo",
        "outputId": "d6fa2e88-c4aa-4018-9d4b-2230bae18302"
      },
      "execution_count": null,
      "outputs": [
        {
          "output_type": "stream",
          "name": "stdout",
          "text": [
            "1D array:  [59 19 86 37 86 83 92 80 92 43]\n",
            "2D array:  [[59 19]\n",
            " [86 37]\n",
            " [86 83]\n",
            " [92 80]\n",
            " [92 43]]\n",
            "Transpose is:  [[59 86 86 92 92]\n",
            " [19 37 83 80 43]]\n"
          ]
        }
      ]
    },
    {
      "cell_type": "markdown",
      "source": [
        "#Q14"
      ],
      "metadata": {
        "id": "C8JiAAMOZavs"
      }
    },
    {
      "cell_type": "code",
      "source": [
        "lis1=[1,2,3]\n",
        "lis2=[4,5,6]\n",
        "lis3=[7,8,9]\n",
        "newarr=np.array([lis1,lis2,lis3])\n",
        "print(newarr)"
      ],
      "metadata": {
        "colab": {
          "base_uri": "https://localhost:8080/"
        },
        "id": "lW47bwcZZcIW",
        "outputId": "1a8d696d-7e95-4d06-9e59-f87a8a851147"
      },
      "execution_count": null,
      "outputs": [
        {
          "output_type": "stream",
          "name": "stdout",
          "text": [
            "[[1 2 3]\n",
            " [4 5 6]\n",
            " [7 8 9]]\n"
          ]
        }
      ]
    },
    {
      "cell_type": "markdown",
      "source": [
        "#Q15"
      ],
      "metadata": {
        "id": "MNRsfNKJZcu7"
      }
    },
    {
      "cell_type": "code",
      "source": [
        "arr=np.array([1,2,3])\n",
        "for i in range(len(arr)):\n",
        "  arr[i]=9\n",
        "print(arr)\n"
      ],
      "metadata": {
        "colab": {
          "base_uri": "https://localhost:8080/"
        },
        "id": "3GgV7EKhZekX",
        "outputId": "8fae8a4d-9a83-481a-c155-1f45df53068a"
      },
      "execution_count": null,
      "outputs": [
        {
          "output_type": "stream",
          "name": "stdout",
          "text": [
            "[9 9 9]\n"
          ]
        }
      ]
    },
    {
      "cell_type": "markdown",
      "source": [
        "#Q16"
      ],
      "metadata": {
        "id": "pfPyQf4BZffl"
      }
    },
    {
      "cell_type": "code",
      "source": [
        "arr=np.array([2,4,5])\n",
        "sum=0\n",
        "for i in arr:\n",
        "  sum+=i\n",
        "print(sum)"
      ],
      "metadata": {
        "colab": {
          "base_uri": "https://localhost:8080/"
        },
        "id": "GkmNWKQUZiGL",
        "outputId": "962ba9e0-b83c-4391-9059-942bf2890148"
      },
      "execution_count": null,
      "outputs": [
        {
          "output_type": "stream",
          "name": "stdout",
          "text": [
            "11\n"
          ]
        }
      ]
    },
    {
      "cell_type": "markdown",
      "source": [
        "#Q17"
      ],
      "metadata": {
        "id": "WZjt7hrGdR9n"
      }
    },
    {
      "cell_type": "code",
      "source": [
        "arr=np.array([77,74,75])\n",
        "prod=1\n",
        "for i in arr:\n",
        "  prod*=i\n",
        "print(prod)"
      ],
      "metadata": {
        "colab": {
          "base_uri": "https://localhost:8080/"
        },
        "id": "mO0YfpvFdTYU",
        "outputId": "64b6c7bf-203f-47b5-841c-814c821c4271"
      },
      "execution_count": null,
      "outputs": [
        {
          "output_type": "stream",
          "name": "stdout",
          "text": [
            "427350\n"
          ]
        }
      ]
    },
    {
      "cell_type": "markdown",
      "source": [
        "#Q18"
      ],
      "metadata": {
        "id": "bWZIa4QMdmsa"
      }
    },
    {
      "cell_type": "code",
      "source": [
        "arr=np.array([2,1,9,1,2,22,1,1,4,55,6,2,56])\n",
        "print(\"Mean is: \",np.mean(arr))\n",
        "print(\"Varaince is: \",np.var(arr))\n",
        "print(\"Max is:\",np.max(arr))\n",
        "print(\"Min is: \",np.min(arr))\n",
        "print(\"Argmin is: \",np.argmin(arr))\n",
        "print(\"Median is:\",np.median(arr))\n",
        "print(\"Argmax is: \",np.argmax(arr))\n",
        "print(\"Standard Deviation is: \",np.std(arr))"
      ],
      "metadata": {
        "colab": {
          "base_uri": "https://localhost:8080/"
        },
        "id": "ds1lHCDzdnrg",
        "outputId": "a239facf-d478-49f0-b7f5-f975dc5c952c"
      },
      "execution_count": null,
      "outputs": [
        {
          "output_type": "stream",
          "name": "stdout",
          "text": [
            "Mean is:  12.461538461538462\n",
            "Varaince is:  367.32544378698225\n",
            "Max is: 56\n",
            "Min is:  1\n",
            "Argmin is:  1\n",
            "Median is: 2.0\n",
            "Argmax is:  12\n",
            "Standard Deviation is:  19.165736192147232\n"
          ]
        }
      ]
    },
    {
      "cell_type": "markdown",
      "source": [
        "#Q19"
      ],
      "metadata": {
        "id": "LhmESlfoeM3Q"
      }
    },
    {
      "cell_type": "code",
      "source": [
        "arr=np.array([1,1,7,5,5,5,4])\n",
        "uniqarr=np.array(np.unique(arr))\n",
        "uniqarr.sort()\n",
        "print(uniqarr)"
      ],
      "metadata": {
        "colab": {
          "base_uri": "https://localhost:8080/"
        },
        "id": "UoLZMlKXeOTv",
        "outputId": "29e9f3b1-8755-417f-b541-9e6eb90dcd47"
      },
      "execution_count": null,
      "outputs": [
        {
          "output_type": "stream",
          "name": "stdout",
          "text": [
            "[1 4 5 7]\n"
          ]
        }
      ]
    },
    {
      "cell_type": "markdown",
      "source": [
        "#Q20"
      ],
      "metadata": {
        "id": "zKVAW7x0e7rp"
      }
    },
    {
      "cell_type": "code",
      "source": [
        "p1=np.array([1,2,3])\n",
        "p2=np.array([4,5,6])\n",
        "print(np.dot(p1,p2))"
      ],
      "metadata": {
        "colab": {
          "base_uri": "https://localhost:8080/"
        },
        "id": "V81Xgr5Je9uh",
        "outputId": "bc40c6a9-527c-4d10-ea2d-69b3b8ab134b"
      },
      "execution_count": null,
      "outputs": [
        {
          "output_type": "stream",
          "name": "stdout",
          "text": [
            "32\n"
          ]
        }
      ]
    },
    {
      "cell_type": "markdown",
      "source": [
        "#Q21"
      ],
      "metadata": {
        "id": "qni7KyRBfcsO"
      }
    },
    {
      "cell_type": "code",
      "source": [
        "a=np.array([[2,12],[2,-5]])\n",
        "val,vec=np.linalg.eig(a)\n",
        "print(\"Eigen value :\",val)\n",
        "print(\"Eigen Vector :\\n\",vec)"
      ],
      "metadata": {
        "colab": {
          "base_uri": "https://localhost:8080/"
        },
        "id": "UcSG_-Y0feIb",
        "outputId": "0486d398-6ebc-4911-fb57-579dea865fe9"
      },
      "execution_count": null,
      "outputs": [
        {
          "output_type": "stream",
          "name": "stdout",
          "text": [
            "Eigen value : [ 4.52079729 -7.52079729]\n",
            "Eigen Vector :\n",
            " [[ 0.97864042 -0.78338465]\n",
            " [ 0.20557951  0.6215372 ]]\n"
          ]
        }
      ]
    },
    {
      "cell_type": "markdown",
      "source": [
        "#Q22"
      ],
      "metadata": {
        "id": "eFg7uILSfemm"
      }
    },
    {
      "cell_type": "code",
      "source": [
        "a1=np.array([11,22,11,31])\n",
        "a2=np.array([25,33,31,28])\n",
        "corrcoef=np.corrcoef(a1,a2)\n",
        "print(corrcoef)"
      ],
      "metadata": {
        "colab": {
          "base_uri": "https://localhost:8080/"
        },
        "id": "pGTsDMHtfgX_",
        "outputId": "6b5890c5-b5ae-4969-d262-21578adfb9b8"
      },
      "execution_count": null,
      "outputs": [
        {
          "output_type": "stream",
          "name": "stdout",
          "text": [
            "[[1.         0.15997968]\n",
            " [0.15997968 1.        ]]\n"
          ]
        }
      ]
    }
  ]
}