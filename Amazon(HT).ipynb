{
  "nbformat": 4,
  "nbformat_minor": 0,
  "metadata": {
    "colab": {
      "provenance": []
    },
    "kernelspec": {
      "name": "python3",
      "display_name": "Python 3"
    },
    "language_info": {
      "name": "python"
    }
  },
  "cells": [
    {
      "cell_type": "markdown",
      "source": [
        "#Hypothesis Testing"
      ],
      "metadata": {
        "id": "3w0kfMq5Blik"
      }
    },
    {
      "cell_type": "code",
      "execution_count": 1,
      "metadata": {
        "id": "grUxBYtzBSJv"
      },
      "outputs": [],
      "source": [
        "import numpy as np\n",
        "import scipy.stats as st"
      ]
    },
    {
      "cell_type": "markdown",
      "source": [
        "#Let the null statistics be the assumption that the most sold sold product at Amazon is of the price range 500 or less\n",
        "#The alternate hypothesis will be the the most sold product is more than 500"
      ],
      "metadata": {
        "id": "LHtR3BZaBqVs"
      }
    },
    {
      "cell_type": "code",
      "source": [
        "#H0 : μ <= 500, Ha :  μ >500 \n",
        "n = 30\n",
        "xbar = 510\n",
        "mu = 500\n",
        "sigma = 5\n",
        "alpha = 0.05"
      ],
      "metadata": {
        "id": "G6SADPE8CYsH"
      },
      "execution_count": 2,
      "outputs": []
    },
    {
      "cell_type": "code",
      "source": [
        "z_critical = abs(st.norm.ppf(alpha))"
      ],
      "metadata": {
        "id": "VzDYM1nKCpr8"
      },
      "execution_count": 3,
      "outputs": []
    },
    {
      "cell_type": "code",
      "source": [
        "z = (xbar-mu)/(sigma/np.sqrt(n))\n",
        "z"
      ],
      "metadata": {
        "colab": {
          "base_uri": "https://localhost:8080/"
        },
        "id": "nFbYsJJbCtWH",
        "outputId": "be2cca7b-8217-4c5a-e7c3-7b503b594e0c"
      },
      "execution_count": 4,
      "outputs": [
        {
          "output_type": "execute_result",
          "data": {
            "text/plain": [
              "10.954451150103322"
            ]
          },
          "metadata": {},
          "execution_count": 4
        }
      ]
    },
    {
      "cell_type": "code",
      "source": [
        "if (z < z_critical): \n",
        "    print(\"Null hypothesis cannot be rejected\")\n",
        "else:\n",
        "    print(\"Reject null hypothesis\")"
      ],
      "metadata": {
        "colab": {
          "base_uri": "https://localhost:8080/"
        },
        "id": "JQsIhd0vCwDt",
        "outputId": "9eb24611-c73d-4155-b35c-5adb0fdbbb24"
      },
      "execution_count": 5,
      "outputs": [
        {
          "output_type": "stream",
          "name": "stdout",
          "text": [
            "Reject null hypothesis\n"
          ]
        }
      ]
    },
    {
      "cell_type": "markdown",
      "source": [
        "#Using P Value"
      ],
      "metadata": {
        "id": "tkCABKgJDmOn"
      }
    },
    {
      "cell_type": "code",
      "source": [
        "p_val = (1 - st.norm.cdf(abs(z))) * 2\n",
        "p_val"
      ],
      "metadata": {
        "colab": {
          "base_uri": "https://localhost:8080/"
        },
        "id": "7i8EDOHKDpBm",
        "outputId": "369659f7-f668-4b32-9e7f-b0f6891b4bfe"
      },
      "execution_count": 6,
      "outputs": [
        {
          "output_type": "execute_result",
          "data": {
            "text/plain": [
              "0.0"
            ]
          },
          "metadata": {},
          "execution_count": 6
        }
      ]
    },
    {
      "cell_type": "code",
      "source": [
        "if (p_val > alpha):\n",
        "    print(\"Null hypothesis cannot be rejected\")\n",
        "else:\n",
        "    print(\"Reject null hypothesis\")"
      ],
      "metadata": {
        "colab": {
          "base_uri": "https://localhost:8080/"
        },
        "id": "fd8SZ2zrDtPF",
        "outputId": "8e9c6b39-2d6b-4d33-8ca3-98e82dba0b5a"
      },
      "execution_count": 7,
      "outputs": [
        {
          "output_type": "stream",
          "name": "stdout",
          "text": [
            "Reject null hypothesis\n"
          ]
        }
      ]
    }
  ]
}