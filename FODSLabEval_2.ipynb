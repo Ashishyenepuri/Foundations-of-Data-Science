{
  "nbformat": 4,
  "nbformat_minor": 0,
  "metadata": {
    "colab": {
      "provenance": []
    },
    "kernelspec": {
      "name": "python3",
      "display_name": "Python 3"
    },
    "language_info": {
      "name": "python"
    }
  },
  "cells": [
    {
      "cell_type": "code",
      "source": [
        "import numpy as np\n",
        "import scipy.stats as st\n",
        "import pandas as pd"
      ],
      "metadata": {
        "id": "qAaolediNQGz"
      },
      "execution_count": 26,
      "outputs": []
    },
    {
      "cell_type": "code",
      "execution_count": null,
      "metadata": {
        "id": "m4Q5dYuaHjlk"
      },
      "outputs": [],
      "source": [
        "#Part-A"
      ]
    },
    {
      "cell_type": "markdown",
      "source": [
        "#Q1."
      ],
      "metadata": {
        "id": "-mZOnpMuLuzK"
      }
    },
    {
      "cell_type": "markdown",
      "source": [
        " Null Hypothesis H0: For every plant, there will be a 75% chance that it will have purple flowers and a 25% chance that it will have white flowers. Alternate Hypothesis H1: Mendels model isnt valid"
      ],
      "metadata": {
        "id": "PchiWzmELdQt"
      }
    },
    {
      "cell_type": "code",
      "source": [
        "\n",
        "eligible_population = [0.25, 0.75]\n"
      ],
      "metadata": {
        "id": "24P-In7wbLm7"
      },
      "execution_count": null,
      "outputs": []
    },
    {
      "cell_type": "markdown",
      "source": [
        "#Q4"
      ],
      "metadata": {
        "id": "_D9vG_uGb88A"
      }
    },
    {
      "cell_type": "code",
      "source": [
        "simulations = 2000-271\n",
        "for i in np.arange(simulations):\n",
        "    count_flowers = npr.binomial(100, 0.25, simulations)\n",
        "%matplotlib inline\n",
        "import pandas as pd\n",
        "df = pd.DataFrame(count_flowers)"
      ],
      "metadata": {
        "id": "A5ZBVvHibTtG"
      },
      "execution_count": 65,
      "outputs": []
    },
    {
      "cell_type": "code",
      "source": [
        "df.hist()"
      ],
      "metadata": {
        "colab": {
          "base_uri": "https://localhost:8080/",
          "height": 315
        },
        "id": "4zVo3td-btmI",
        "outputId": "3654178b-02a4-4cb2-9774-721e709a847c"
      },
      "execution_count": 66,
      "outputs": [
        {
          "output_type": "execute_result",
          "data": {
            "text/plain": [
              "array([[<matplotlib.axes._subplots.AxesSubplot object at 0x7fb78ba017f0>]],\n",
              "      dtype=object)"
            ]
          },
          "metadata": {},
          "execution_count": 66
        },
        {
          "output_type": "display_data",
          "data": {
            "text/plain": [
              "<Figure size 432x288 with 1 Axes>"
            ],
            "image/png": "[encoded data removed]"
          },
          "metadata": {
            "needs_background": "light"
          }
        }
      ]
    },
    {
      "cell_type": "code",
      "source": [
        "import random\n",
        "flowers=['purple']*776\n",
        "white=['white']*153\n",
        "flowers.extend(white)\n",
        "random.shuffle(flowers)\n",
        "flowers[700:710]\n",
        "\n"
      ],
      "metadata": {
        "colab": {
          "base_uri": "https://localhost:8080/"
        },
        "id": "w6SVao1PQjTP",
        "outputId": "bbf57b4b-7f41-4011-f0ff-884820ccbf31"
      },
      "execution_count": 59,
      "outputs": [
        {
          "output_type": "execute_result",
          "data": {
            "text/plain": [
              "['purple',\n",
              " 'purple',\n",
              " 'purple',\n",
              " 'purple',\n",
              " 'purple',\n",
              " 'purple',\n",
              " 'white',\n",
              " 'purple',\n",
              " 'purple',\n",
              " 'purple']"
            ]
          },
          "metadata": {},
          "execution_count": 59
        }
      ]
    },
    {
      "cell_type": "markdown",
      "source": [
        "#Q2"
      ],
      "metadata": {
        "id": "s5ds1n8JLzDz"
      }
    },
    {
      "cell_type": "markdown",
      "source": [
        "Since our model predicts 75% purple-flowering plants, the relevant statistic is the difference between 0.75 and the observed proportion of purple-flowering plants."
      ],
      "metadata": {
        "id": "A7ay5LdyVFKi"
      }
    },
    {
      "cell_type": "code",
      "source": [],
      "metadata": {
        "id": "Sd-kwfn1ZpES"
      },
      "execution_count": null,
      "outputs": []
    },
    {
      "cell_type": "markdown",
      "source": [],
      "metadata": {
        "id": "o_ngSag5L0Ni"
      }
    },
    {
      "cell_type": "markdown",
      "source": [
        "#Part-B"
      ],
      "metadata": {
        "id": "3-opvA1IMDkQ"
      }
    },
    {
      "cell_type": "code",
      "source": [
        "n=30\n",
        "xbar=65.10\n",
        "s=13.4\n",
        "alpha=0.05\n",
        "mu=60"
      ],
      "metadata": {
        "id": "nSkZuDUFMovP"
      },
      "execution_count": 15,
      "outputs": []
    },
    {
      "cell_type": "code",
      "source": [
        "z = (xbar-mu)/(s/np.sqrt(n))\n",
        "z"
      ],
      "metadata": {
        "colab": {
          "base_uri": "https://localhost:8080/"
        },
        "id": "qOrqtsVbPlGU",
        "outputId": "bd461a37-457f-489b-a9cd-ebbb11ebc4a9"
      },
      "execution_count": 16,
      "outputs": [
        {
          "output_type": "execute_result",
          "data": {
            "text/plain": [
              "2.0846157039375703"
            ]
          },
          "metadata": {},
          "execution_count": 16
        }
      ]
    },
    {
      "cell_type": "code",
      "source": [
        "p_val = (1 - st.norm.cdf(abs(z))) * 2\n",
        "p_val"
      ],
      "metadata": {
        "colab": {
          "base_uri": "https://localhost:8080/"
        },
        "id": "XnSnBz5ZNTFU",
        "outputId": "b785a6e0-3e67-4c64-b2d0-2195ff78206c"
      },
      "execution_count": 20,
      "outputs": [
        {
          "output_type": "execute_result",
          "data": {
            "text/plain": [
              "0.0371041978531812"
            ]
          },
          "metadata": {},
          "execution_count": 20
        }
      ]
    },
    {
      "cell_type": "code",
      "source": [
        "if (p_val>alpha):\n",
        "  print(\"Null hypothesis cannot be rejected\")\n",
        "else:\n",
        "  print(\"Null hypothesis will be rejected\")"
      ],
      "metadata": {
        "colab": {
          "base_uri": "https://localhost:8080/"
        },
        "id": "kMGlTC97NnN0",
        "outputId": "01b28e09-442b-4734-8f7a-532a758bcd6c"
      },
      "execution_count": 21,
      "outputs": [
        {
          "output_type": "stream",
          "name": "stdout",
          "text": [
            "Null hypothesis will be rejected\n"
          ]
        }
      ]
    }
  ]
}